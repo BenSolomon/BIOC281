{
 "cells": [
  {
   "cell_type": "markdown",
   "metadata": {},
   "source": [
    "# Tutorial 2"
   ]
  },
  {
   "cell_type": "markdown",
   "metadata": {},
   "source": [
    "## Questions from the tutorial earlier (please answer here)"
   ]
  },
  {
   "cell_type": "markdown",
   "metadata": {},
   "source": [
    "**Question:** Are there Ns inside the 20bp regions flanking the Ns? If so, why do you think so?"
   ]
  },
  {
   "cell_type": "markdown",
   "metadata": {},
   "source": [
    "**Answer:**"
   ]
  },
  {
   "cell_type": "markdown",
   "metadata": {},
   "source": [
    "**Question:** After viewing the normal PAR regions, was your hypothesis correct?"
   ]
  },
  {
   "cell_type": "markdown",
   "metadata": {},
   "source": [
    "**Answer:**"
   ]
  },
  {
   "cell_type": "markdown",
   "metadata": {},
   "source": [
    "We'll now look briefly at how STAR and kallisto perform against one another, using some of the tools we learned in the last tutorial"
   ]
  },
  {
   "cell_type": "markdown",
   "metadata": {},
   "source": [
    "## Load required packages"
   ]
  },
  {
   "cell_type": "code",
   "execution_count": null,
   "metadata": {},
   "outputs": [],
   "source": [
    "# Just as we did last week\n",
    "import os\n",
    "import re\n",
    "import mygene\n",
    "import pandas as pd\n",
    "import numpy as np\n",
    "import scipy as sp\n",
    "import seaborn as sns\n",
    "import matplotlib.pyplot as plt\n",
    "from adjustText import adjust_text"
   ]
  },
  {
   "cell_type": "code",
   "execution_count": null,
   "metadata": {},
   "outputs": [],
   "source": [
    "# Set the present working directory with the getcwd() function from the os library\n",
    "pwd = os.getcwd()"
   ]
  },
  {
   "cell_type": "code",
   "execution_count": null,
   "metadata": {},
   "outputs": [],
   "source": [
    "# Check this is set correctly to '/home/<SUNetID>/BIOC281/Classes/2'\n",
    "pwd"
   ]
  },
  {
   "cell_type": "markdown",
   "metadata": {},
   "source": [
    "## Data ingest"
   ]
  },
  {
   "cell_type": "code",
   "execution_count": null,
   "metadata": {},
   "outputs": [],
   "source": [
    "# Read in tab separated values table from STAR using the read_csv function from pandas (pd)\n",
    "#\n",
    "# The index_col=0 parameter tells pandas to use the first column as the rownames\n",
    "# The header=0 parameter tells pandas the first row is real data, not the columns\n",
    "# which we instead supply with the names parameter.\n",
    "#\n",
    "# The join() command from the path section of the os library allows us to construct file paths\n",
    "# In this case it will return '/home/<SUNetID>/BIOC281/Classes/2/STAResults/male_1p/male.1p.ReadsPerGene.out.tab'\n",
    "male_STAR = pd.read_csv(os.path.join(pwd, 'STAResults', 'male_1p', 'male.1p.ReadsPerGene.out.tab'), sep=\"\\t\", header=0, names=['feature', 'counts', 'pos', 'neg'], index_col=0)\n",
    "\n",
    "# Read in tab separated values table from kallisto using the read_csv function from pandas (pd)\n",
    "male_kallisto = pd.read_csv(os.path.join(pwd, 'kallistoResults', 'output', 'abundance.tsv'), sep=\"\\t\", index_col=0)"
   ]
  },
  {
   "cell_type": "code",
   "execution_count": null,
   "metadata": {},
   "outputs": [],
   "source": [
    "# Print the STAR data frame\n",
    "#\n",
    "# Note how STAR added some metadata, including the number of counts that mapped to multiple loci\n",
    "# By default, STAR does not include these in the gene counts table\n",
    "# STAR also reports whether counts came from the positive or negative strand\n",
    "# Also note there are only 6,018 genes because our minigenome only included chromosomes 1, 2, X, Y, and mitochrondrial\n",
    "male_STAR"
   ]
  },
  {
   "cell_type": "code",
   "execution_count": null,
   "metadata": {},
   "outputs": [],
   "source": [
    "# Print the kallisto data frame\n",
    "#\n",
    "# Note how kallisto has returned RefSeq transcript IDs rather than gene names\n",
    "# It includes transctipts across the entire genome, which is why there are 86,486 features\n",
    "# kallisto also supplies the actual and effective (detected) gene lengths (in bases)\n",
    "# that is used to estimate transcripts per million (tpm)\n",
    "# The est_counts column is the most directly comparable to STARs output\n",
    "male_kallisto"
   ]
  },
  {
   "cell_type": "code",
   "execution_count": null,
   "metadata": {},
   "outputs": [],
   "source": [
    "# The RefSeq IDs include a few duplicate entries that have underscores appended onto them (e.g. NR_024540_2)\n",
    "# We use regular expressions to match and remove them (with the sub() function from the re library)\n",
    "#\n",
    "# In this case, the \"^\" symbol matches the start of each ID and the \"$\" symbol matches the end\n",
    "# The two \"[^_]+\" match 1 or more characters that do not include an \"_\"\n",
    "# The parentheses around them allowing us to reference them later\n",
    "# The \"_.*\" matches any number of characters following a second \"_\"\n",
    "#\n",
    "# We then replace the matched sequence with the text that comes before the first \"_\" and\n",
    "# then the text that comes after the first \"_\", but before the second \"_\"\n",
    "#\n",
    "# The renames RefSeq IDs are saved into a new column\n",
    "male_kallisto['collapse_id'] = [re.sub('^([^_]+)_([^_]+)_.*$', '\\\\1_\\\\2', x) for x in male_kallisto.index.to_list()]\n",
    "\n",
    "# Use pandas' groupby() and sum() functions to collapse counts with the same RefSeq ID to a single row\n",
    "male_kallisto = male_kallisto.groupby('collapse_id').sum()"
   ]
  },
  {
   "cell_type": "code",
   "execution_count": null,
   "metadata": {},
   "outputs": [],
   "source": [
    "# Print the updated table, notice how the number of rows has changed\n",
    "male_kallisto"
   ]
  },
  {
   "cell_type": "markdown",
   "metadata": {},
   "source": [
    "## Convert RefSeq IDs to gene names"
   ]
  },
  {
   "cell_type": "code",
   "execution_count": null,
   "metadata": {},
   "outputs": [],
   "source": [
    "# Connect to RefSeq using the mygene library (see https://mygene.info for more uses)\n",
    "mg = mygene.MyGeneInfo()\n",
    "\n",
    "# Create a table of RefSeq IDs and corresponding gene names with the querymany() function from mygene\n",
    "# You can obtain the rownames from a pandas data frame with the index function\n",
    "# and then convert them to a list (expected by mygene) with the tolist() function\n",
    "refIDToGene = mg.querymany(male_kallisto.index.tolist(),\n",
    "             scopes='refseq,symbol',\n",
    "             species='human',\n",
    "             as_dataframe=True)"
   ]
  },
  {
   "cell_type": "code",
   "execution_count": null,
   "metadata": {},
   "outputs": [],
   "source": [
    "# Print the table\n",
    "# Notice how some entries (e.g. the ERCCs) did not have a matching gene symbol and were returned as NaNs)\n",
    "refIDToGene"
   ]
  },
  {
   "cell_type": "code",
   "execution_count": null,
   "metadata": {},
   "outputs": [],
   "source": [
    "# Create a new column in the kallisto table that has the gene symbols for each RefSeq ID\n",
    "# We again use index to obtain the rownames for the table\n",
    "male_kallisto['symbol'] = refIDToGene.symbol[male_kallisto.index].to_list()"
   ]
  },
  {
   "cell_type": "code",
   "execution_count": null,
   "metadata": {},
   "outputs": [],
   "source": [
    "# Find rows without a gene symbol (those with NaNs) and set them to their current rowname\n",
    "tmp = male_kallisto.symbol.copy()\n",
    "tmp[tmp.isna()] = tmp[tmp.isna()].index.to_list()\n",
    "male_kallisto.symbol = tmp.copy()"
   ]
  },
  {
   "cell_type": "code",
   "execution_count": null,
   "metadata": {},
   "outputs": [],
   "source": [
    "# Use pandas' groupby() and sum() functions to collapse counts with the same gene name to a single row\n",
    "male_kallisto = male_kallisto.groupby('symbol').sum()"
   ]
  },
  {
   "cell_type": "code",
   "execution_count": null,
   "metadata": {},
   "outputs": [],
   "source": [
    "# Print the new kallisto table\n",
    "# Notice how the number of rows has fallen to 28,402 (in line with the number of human genes)\n",
    "male_kallisto"
   ]
  },
  {
   "cell_type": "markdown",
   "metadata": {},
   "source": [
    "## Merge the STAR and kallisto data and compare"
   ]
  },
  {
   "cell_type": "code",
   "execution_count": null,
   "metadata": {},
   "outputs": [],
   "source": [
    "# Identify the genes the STAR and kallisto data have in common (those on the minigenome)\n",
    "tmp = male_STAR.index.intersection(male_kallisto.index)\n",
    "\n",
    "# Subset both tables to only include those genes with the loc[] command from pandas\n",
    "male_kallisto_common = male_kallisto.loc[tmp]\n",
    "male_STAR_common = male_STAR.loc[tmp]"
   ]
  },
  {
   "cell_type": "markdown",
   "metadata": {},
   "source": [
    "**Question:** After subsetting the kallisto table, are the transcript per millions values still OK to use?"
   ]
  },
  {
   "cell_type": "markdown",
   "metadata": {},
   "source": [
    "**Answer:**"
   ]
  },
  {
   "cell_type": "code",
   "execution_count": null,
   "metadata": {},
   "outputs": [],
   "source": [
    "# Create a data frame that contains the STAR and kallisto absolute and log normalized counts as well as their absolute difference\n",
    "tmp = pd.DataFrame()\n",
    "tmp['STAR'] = male_STAR_common.counts\n",
    "tmp['Kallisto'] = male_kallisto_common.est_counts\n",
    "tmp['log_STAR'] = np.log10(tmp.STAR + 1)\n",
    "tmp['log_Kallisto'] = np.log10(tmp.Kallisto + 1)\n",
    "tmp['abs_diff'] = tmp.STAR - tmp.Kallisto"
   ]
  },
  {
   "cell_type": "code",
   "execution_count": null,
   "metadata": {},
   "outputs": [],
   "source": [
    "# Print the total counts mapped by STAR and kallisto to the minigenome\n",
    "print('STAR counts: ' + str(tmp.STAR.sum()))\n",
    "print('Kallisto counts: ' + str(tmp.Kallisto.sum()))"
   ]
  },
  {
   "cell_type": "markdown",
   "metadata": {},
   "source": [
    "**Note:** Kallisto does not have a whole number of counts because it uses probablistic mapping where a fraction of a read can be assigned to multiple transcripts\n",
    "\n",
    "**Question:** How does the difference in the number of total counts between kallisto and STAR compare with the number of multimapping reads called by STAR (from above)?"
   ]
  },
  {
   "cell_type": "markdown",
   "metadata": {},
   "source": [
    "**Answer:**"
   ]
  },
  {
   "cell_type": "code",
   "execution_count": null,
   "metadata": {},
   "outputs": [],
   "source": [
    "# Plot the pearson correlation between the STAR and kallisto results\n",
    "print('Pearson counts: ' + str(sp.stats.pearsonr(tmp.STAR, tmp.Kallisto)))\n",
    "print('Pearson log10(counts+1): ' + str(sp.stats.pearsonr(tmp.log_STAR, tmp.log_Kallisto)))"
   ]
  },
  {
   "cell_type": "code",
   "execution_count": null,
   "metadata": {},
   "outputs": [],
   "source": [
    "# Set the plotting size as we did last week\n",
    "plt.rcParams['figure.figsize'] = [10, 10]\n",
    "\n",
    "# Create a scatter plot comparing the log normalized counts\n",
    "# s sets the size of the points, c sets the color (blue), and edgecolors sets their outline color\n",
    "f = plt.figure()\n",
    "scatter = plt.scatter(tmp.log_STAR, tmp.log_Kallisto, s=15, c='b', edgecolors='w')\n",
    "plt.xlabel(\"STAR\")\n",
    "plt.ylabel(\"Kallisto\")\n",
    "\n",
    "# Label the 30 genes with the largest difference in STAR relative to kallisto using the adjust_text()\n",
    "# function from the adjustText library so the names do not collide\n",
    "#\n",
    "# We use the sort_values() function from pandas to order the dataframe by the absolute difference\n",
    "# sort_values() orders the genes in ascending order so the end contain those with the largest positive differemt\n",
    "# [-30:] nabs the last 30 values\n",
    "texts = []\n",
    "to_plot = tmp.abs_diff.sort_values()[-30:].index\n",
    "for x, y, s in zip(tmp.log_STAR[to_plot], tmp.log_Kallisto[to_plot], to_plot.to_series()):\n",
    "    texts.append(plt.text(x, y, s))\n",
    "    \n",
    "adjust_text(texts, force_points=0.2, force_text=0.2,\n",
    "            expand_points=(1, 1), expand_text=(1, 1),\n",
    "            arrowprops=dict(arrowstyle=\"-\", color='black', lw=0.5))\n",
    "\n",
    "plt.show()"
   ]
  },
  {
   "cell_type": "code",
   "execution_count": null,
   "metadata": {},
   "outputs": [],
   "source": [
    "plt.rcParams['figure.figsize'] = [10, 10]\n",
    "\n",
    "# Create a scatter plot comparing the log normalized counts\n",
    "# s sets the size of the points, c sets the color (blue), and edgecolors sets their outline color\n",
    "f = plt.figure()\n",
    "scatter = plt.scatter(tmp.log_STAR, tmp.log_Kallisto, s=15, c='b', edgecolors='w')\n",
    "plt.xlabel(\"STAR\")\n",
    "plt.ylabel(\"Kallisto\")\n",
    "\n",
    "# Label the 30 genes with the largest difference in kallisto relative to STAR using the adjust_text()\n",
    "# function from the adjustText library so the names do not collide\n",
    "#\n",
    "# We use the sort_values() function from pandas to order the dataframe by the absolute difference\n",
    "# sort_values() orders the genes in ascending order so the start contains those with the largest negative differemt\n",
    "# [:30] nabs the first 30 values\n",
    "texts = []\n",
    "to_plot = tmp.abs_diff.sort_values()[:30].index\n",
    "for x, y, s in zip(tmp.log_STAR[to_plot], tmp.log_Kallisto[to_plot], to_plot.to_series()):\n",
    "    texts.append(plt.text(x, y, s))\n",
    "\n",
    "adjust_text(texts, force_points=0.2, force_text=0.2,\n",
    "            expand_points=(1, 1), expand_text=(1, 1),\n",
    "            arrowprops=dict(arrowstyle=\"-\", color='black', lw=0.5))\n",
    "\n",
    "plt.show()"
   ]
  },
  {
   "cell_type": "code",
   "execution_count": null,
   "metadata": {},
   "outputs": [],
   "source": [
    "# Print a table of the top 30 genes by absolute difference in STAR relative to kallisto\n",
    "# As sort_values() places values in ascending order we use [::-1] to reverse the dataframe\n",
    "tmp.loc[tmp.abs_diff.sort_values()[-30:].index[::-1], :]"
   ]
  },
  {
   "cell_type": "code",
   "execution_count": null,
   "metadata": {},
   "outputs": [],
   "source": [
    "# Print a table of the top 30 genes by absolute difference in kallisto relative to STAR\n",
    "tmp.loc[tmp.abs_diff.sort_values()[:30].index, :]"
   ]
  },
  {
   "cell_type": "markdown",
   "metadata": {},
   "source": [
    "**Note:** When finished, please save the outputs of Tutorial 2.ipynb (File > Export Notebook As... > Export Notebook to HTML) when you have completed it and upload it to Canvas."
   ]
  }
 ],
 "metadata": {
  "kernelspec": {
   "display_name": "Python 3",
   "language": "python",
   "name": "python3"
  },
  "language_info": {
   "codemirror_mode": {
    "name": "ipython",
    "version": 3
   },
   "file_extension": ".py",
   "mimetype": "text/x-python",
   "name": "python",
   "nbconvert_exporter": "python",
   "pygments_lexer": "ipython3",
   "version": "3.8.5"
  }
 },
 "nbformat": 4,
 "nbformat_minor": 4
}
