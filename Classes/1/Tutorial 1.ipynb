{
 "cells": [
  {
   "cell_type": "markdown",
   "metadata": {},
   "source": [
    "# Tutorial 1"
   ]
  },
  {
   "cell_type": "markdown",
   "metadata": {},
   "source": [
    "data9b_w.txt and data9b_m.txt are tab separated values tables, where each row contains the number of steps that a person took on a particular day (steps) and their body mass index (bmi). data9b_w.txt contains data from women, while data9b_m.txt contains data from men."
   ]
  },
  {
   "cell_type": "markdown",
   "metadata": {},
   "source": [
    "## Load required packages"
   ]
  },
  {
   "cell_type": "code",
   "execution_count": null,
   "metadata": {},
   "outputs": [],
   "source": [
    "# Python has many useful built-in functions, but you can also add \n",
    "# functionality to python using packages written by others\n",
    "# after installing them through PyPI (pip) or Anaconda (conda)\n",
    "# They can be loaded with \"import name\"\n",
    "#\n",
    "# Added functions are then references as name.function, so it is often\n",
    "# helpful to shorten the library name with \"import name as abbreviation\"\n",
    "# Python also allows selective loading of parts of packages using \"from\"\n",
    "# such as the Counter function from the collections package shown below\n",
    "\n",
    "import pandas as pd\n",
    "import numpy as np\n",
    "import scipy as sp\n",
    "import seaborn as sns\n",
    "import matplotlib.pyplot as plt"
   ]
  },
  {
   "cell_type": "markdown",
   "metadata": {},
   "source": [
    "## Data Ingest"
   ]
  },
  {
   "cell_type": "code",
   "execution_count": null,
   "metadata": {},
   "outputs": [],
   "source": [
    "# Read in tab separated values tables using the read_csv function from pandas (pd)\n",
    "men = pd.read_csv('data9b_m.txt', sep = \"\\t\")\n",
    "women = pd.read_csv('data9b_w.txt', sep = \"\\t\")"
   ]
  },
  {
   "cell_type": "code",
   "execution_count": null,
   "metadata": {},
   "outputs": [],
   "source": [
    "# The print command can be used to display variables\n",
    "# Jupyter truncates the middle of tables if they are large\n",
    "print(men)\n",
    "print(women)"
   ]
  },
  {
   "cell_type": "markdown",
   "metadata": {},
   "source": [
    "## Testing null hypotheses"
   ]
  },
  {
   "cell_type": "markdown",
   "metadata": {},
   "source": [
    "Assume that both traits are normally distributed for males and for females. Consider the following (alternative, not null) hypotheses:\n",
    "\n",
    "a) There is a difference in the mean number of steps between women and men.\n",
    "\n",
    "b) The correlation coefficient between steps and bmi is negative for women.\n",
    "\n",
    "c) The correlation coefficient between steps and bmi is positive for men."
   ]
  },
  {
   "cell_type": "code",
   "execution_count": null,
   "metadata": {},
   "outputs": [],
   "source": [
    "# You can access data in columns of pandas dataframes (python speak for a table)\n",
    "# with the format dataframe.column. For example, men.steps would return all of the\n",
    "# steps each man took in the dataset.\n",
    "#\n",
    "# We can then use the mean(), median(), and std() functions from the numpy library\n",
    "# to obtain the mean, median, and standard deviation of each parameter\n",
    "# Finally we can use the print function to format the information\n",
    "# Notice how we use \"+\" symbols to embed the functions in the print() commands\n",
    "# str() is used to convert the numbers returned from numpy to strings\n",
    "\n",
    "print(\"Means\\nMen: \" + str(np.mean(men.steps)) + \"\\nWomen: \" + str(np.mean(women.steps)) + \"\\n\")\n",
    "\n",
    "print(\"Medians\\nMen: \" + str(np.median(men.steps)) + \"\\nWomen: \" + str(np.median(women.steps)) + \"\\n\")\n",
    "\n",
    "print(\"Standard Deviation\\nMen: \" + str(np.std(men.steps)) + \"\\nWomen: \" + str(np.std(women.steps)) + \"\\n\")"
   ]
  },
  {
   "cell_type": "code",
   "execution_count": null,
   "metadata": {},
   "outputs": [],
   "source": [
    "# scipy.stats has a lot of useful statistical functions like t-tests and correlations\n",
    "# Here we use the the ttest_ind() and pearsonr() functions to test the null hypotheses\n",
    "\n",
    "print(\"Significant difference in steps?\")\n",
    "print(sp.stats.ttest_ind(men.steps, women.steps))\n",
    "\n",
    "print(\"\\nCorrelation between men steps and bmi?\")\n",
    "print(sp.stats.pearsonr(men.steps, men.bmi))\n",
    "\n",
    "print(\"\\nCorrelation between women steps and bmi?\")\n",
    "print(sp.stats.pearsonr(women.steps, women.bmi))"
   ]
  },
  {
   "cell_type": "markdown",
   "metadata": {},
   "source": [
    "**Question:** Is each null hypothesis accepted or rejected?"
   ]
  },
  {
   "cell_type": "markdown",
   "metadata": {},
   "source": [
    "**Answer:**"
   ]
  },
  {
   "cell_type": "markdown",
   "metadata": {},
   "source": [
    "## Further exploration"
   ]
  },
  {
   "cell_type": "markdown",
   "metadata": {},
   "source": [
    "**Question:** What other conclusions can you draw from the data? Two examples of exploratory plotting are included below, come up with others!"
   ]
  },
  {
   "cell_type": "markdown",
   "metadata": {},
   "source": [
    "**Answer:**"
   ]
  },
  {
   "cell_type": "code",
   "execution_count": null,
   "metadata": {},
   "outputs": [],
   "source": [
    "plt.rcParams['figure.figsize'] = [6, 6]\n",
    "# Example 1: Visually inspect scatterplot to see relationship between male and female step counts\n",
    "sns.scatterplot(x=men.steps, y=women.steps);"
   ]
  },
  {
   "cell_type": "code",
   "execution_count": null,
   "metadata": {},
   "outputs": [],
   "source": [
    "plt.rcParams['figure.figsize'] = [6, 6]\n",
    "# Example 2: Visually check for normality in female bmi\n",
    "sns.distplot(women.bmi);"
   ]
  }
 ],
 "metadata": {
  "kernelspec": {
   "display_name": "Python 3",
   "language": "python",
   "name": "python3"
  },
  "language_info": {
   "codemirror_mode": {
    "name": "ipython",
    "version": 3
   },
   "file_extension": ".py",
   "mimetype": "text/x-python",
   "name": "python",
   "nbconvert_exporter": "python",
   "pygments_lexer": "ipython3",
   "version": "3.8.5"
  }
 },
 "nbformat": 4,
 "nbformat_minor": 4
}
