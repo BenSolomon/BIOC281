{
 "cells": [
  {
   "cell_type": "markdown",
   "metadata": {},
   "source": [
    "# Tutorial 1"
   ]
  },
  {
   "cell_type": "markdown",
   "metadata": {},
   "source": [
    "data9b_w.txt and data9b_m.txt are tab separated values tables, where each row contains the number of steps that a person took on a particular day (steps) and their body mass index (bmi). data9b_w.txt contains data from women, while data9b_m.txt contains data from men."
   ]
  },
  {
   "cell_type": "markdown",
   "metadata": {},
   "source": [
    "## Load required packages"
   ]
  },
  {
   "cell_type": "code",
   "execution_count": 1,
   "metadata": {},
   "outputs": [
    {
     "name": "stderr",
     "output_type": "stream",
     "text": [
      "Matplotlib is building the font cache; this may take a moment.\n"
     ]
    }
   ],
   "source": [
    "# Python has many useful built-in functions, but you can also add \n",
    "# functionality to python using packages written by others\n",
    "# after installing them through PyPI (pip) or Anaconda (conda)\n",
    "# They can be loaded with \"import name\"\n",
    "#\n",
    "# Added functions are then references as name.function, so it is often\n",
    "# helpful to shorten the library name with \"import name as abbreviation\"\n",
    "# Python also allows selective loading of parts of packages using \"from\"\n",
    "# such as the Counter function from the collections package shown below\n",
    "\n",
    "import pandas as pd\n",
    "import numpy as np\n",
    "import scipy as sp\n",
    "import seaborn as sns\n",
    "import matplotlib.pyplot as plt\n",
    "%matplotlib inline"
   ]
  },
  {
   "cell_type": "markdown",
   "metadata": {},
   "source": [
    "## Data ingest"
   ]
  },
  {
   "cell_type": "code",
   "execution_count": 2,
   "metadata": {},
   "outputs": [],
   "source": [
    "# Read in tab separated values tables using the read_csv function from pandas (pd)\n",
    "men = pd.read_csv('data9b_m.txt', sep = \"\\t\")\n",
    "women = pd.read_csv('data9b_w.txt', sep = \"\\t\")"
   ]
  },
  {
   "cell_type": "code",
   "execution_count": 3,
   "metadata": {},
   "outputs": [
    {
     "name": "stdout",
     "output_type": "stream",
     "text": [
      "       ID  steps   bmi\n",
      "0       1  15000  16.9\n",
      "1       2  15000  16.9\n",
      "2       6  14861  16.8\n",
      "3       7  14861  16.8\n",
      "4       8  14699  17.3\n",
      "..    ...    ...   ...\n",
      "860  1718    602  30.7\n",
      "861  1735    602  27.6\n",
      "862  1739    602  24.2\n",
      "863  1747    463  28.9\n",
      "864  1766    301  24.8\n",
      "\n",
      "[865 rows x 3 columns]\n",
      "       ID  steps   bmi\n",
      "0       3  15000  17.0\n",
      "1       4  14861  17.2\n",
      "2       5  14861  17.2\n",
      "3       9  14699  16.8\n",
      "4      12  14560  20.4\n",
      "..    ...    ...   ...\n",
      "916  1782    162  30.3\n",
      "917  1783    162  30.4\n",
      "918  1784    162  30.3\n",
      "919  1785    162  30.3\n",
      "920  1786      0  15.0\n",
      "\n",
      "[921 rows x 3 columns]\n"
     ]
    }
   ],
   "source": [
    "# The print command can be used to display variables\n",
    "# Jupyter truncates the middle of tables if they are large\n",
    "print(men)\n",
    "print(women)"
   ]
  },
  {
   "cell_type": "markdown",
   "metadata": {},
   "source": [
    "## Testing null hypotheses"
   ]
  },
  {
   "cell_type": "markdown",
   "metadata": {},
   "source": [
    "Assume that both traits are normally distributed for males and for females. Consider the following (alternative, not null) hypotheses:\n",
    "\n",
    "a) There is a difference in the mean number of steps between women and men.\n",
    "\n",
    "b) The correlation coefficient between steps and bmi is negative for women.\n",
    "\n",
    "c) The correlation coefficient between steps and bmi is positive for men."
   ]
  },
  {
   "cell_type": "code",
   "execution_count": 4,
   "metadata": {},
   "outputs": [
    {
     "name": "stdout",
     "output_type": "stream",
     "text": [
      "Means\n",
      "Men: 8013.907514450867\n",
      "Women: 6891.236699239957\n",
      "\n",
      "Medians\n",
      "Men: 7894.0\n",
      "Women: 7130.0\n",
      "\n",
      "Standard Deviation\n",
      "Men: 3253.2210706927103\n",
      "Women: 3672.2104705269167\n",
      "\n"
     ]
    }
   ],
   "source": [
    "# You can access data in columns of pandas dataframes (python speak for a table)\n",
    "# with the format dataframe.column. For example, men.steps would return all of the\n",
    "# steps each man took in the dataset.\n",
    "#\n",
    "# We can then use the mean(), median(), and std() functions from the numpy library\n",
    "# to obtain the mean, median, and standard deviation of each parameter\n",
    "# Finally we can use the print function to format the information\n",
    "# Notice how we use \"+\" symbols to embed the functions in the print() commands\n",
    "# str() is used to convert the numbers returned from numpy to strings\n",
    "\n",
    "print(\"Means\\nMen: \" + str(np.mean(men.steps)) + \"\\nWomen: \" + str(np.mean(women.steps)) + \"\\n\")\n",
    "\n",
    "print(\"Medians\\nMen: \" + str(np.median(men.steps)) + \"\\nWomen: \" + str(np.median(women.steps)) + \"\\n\")\n",
    "\n",
    "print(\"Standard Deviation\\nMen: \" + str(np.std(men.steps)) + \"\\nWomen: \" + str(np.std(women.steps)) + \"\\n\")"
   ]
  },
  {
   "cell_type": "code",
   "execution_count": 5,
   "metadata": {},
   "outputs": [
    {
     "name": "stdout",
     "output_type": "stream",
     "text": [
      "Significant difference in steps?\n",
      "Ttest_indResult(statistic=6.818310367290211, pvalue=1.2565173018604751e-11)\n",
      "\n",
      "Correlation between men steps and bmi?\n",
      "(-0.2303534381249133, 7.006176526631734e-12)\n",
      "\n",
      "Correlation between women steps and bmi?\n",
      "(-0.31236068681659646, 2.7160779515837855e-22)\n"
     ]
    }
   ],
   "source": [
    "# scipy.stats has a lot of useful statistical functions like t-tests and correlations\n",
    "# Here we use the the ttest_ind() and pearsonr() functions to test the null hypotheses\n",
    "\n",
    "print(\"Significant difference in steps?\")\n",
    "print(sp.stats.ttest_ind(men.steps, women.steps))\n",
    "\n",
    "print(\"\\nCorrelation between men steps and bmi?\")\n",
    "print(sp.stats.pearsonr(men.steps, men.bmi))\n",
    "\n",
    "print(\"\\nCorrelation between women steps and bmi?\")\n",
    "print(sp.stats.pearsonr(women.steps, women.bmi))"
   ]
  },
  {
   "cell_type": "markdown",
   "metadata": {},
   "source": [
    "**Question:** Is each null hypothesis accepted or rejected?"
   ]
  },
  {
   "cell_type": "markdown",
   "metadata": {},
   "source": [
    "**Answer:**"
   ]
  },
  {
   "cell_type": "markdown",
   "metadata": {},
   "source": [
    "## Further exploration"
   ]
  },
  {
   "cell_type": "markdown",
   "metadata": {},
   "source": [
    "**Question:** What other conclusions can you draw from the data? Two examples of exploratory plotting are included below, come up with others!"
   ]
  },
  {
   "cell_type": "markdown",
   "metadata": {},
   "source": [
    "**Answer:**"
   ]
  },
  {
   "cell_type": "code",
   "execution_count": 6,
   "metadata": {},
   "outputs": [
    {
     "data": {
      "image/png": "[encoded data removed]",
      "text/plain": [
       "<Figure size 432x432 with 1 Axes>"
      ]
     },
     "metadata": {
      "needs_background": "light"
     },
     "output_type": "display_data"
    }
   ],
   "source": [
    "# Set the size of the plot\n",
    "plt.rcParams['figure.figsize'] = [6, 6]\n",
    "\n",
    "# Example 1: Visually inspect scatterplot to see relationship between male and female step counts\n",
    "# See https://seaborn.pydata.org for other plotting functions in the seaborn library\n",
    "sns.scatterplot(x=men.steps, y=women.steps);"
   ]
  },
  {
   "cell_type": "code",
   "execution_count": 7,
   "metadata": {},
   "outputs": [
    {
     "data": {
      "image/png": "[encoded data removed]",
      "text/plain": [
       "<Figure size 432x432 with 1 Axes>"
      ]
     },
     "metadata": {
      "needs_background": "light"
     },
     "output_type": "display_data"
    }
   ],
   "source": [
    "plt.rcParams['figure.figsize'] = [6, 6]\n",
    "\n",
    "#Example 2: Visually check for normality in female bmi\n",
    "sns.distplot(women.bmi);"
   ]
  },
  {
   "cell_type": "markdown",
   "metadata": {},
   "source": [
    "**Note:** When finished, please save the outputs of Tutorial 1.ipynb (File > Export Notebook As... > Export Notebook to HTML) when you have completed it and upload it to Canvas."
   ]
  }
 ],
 "metadata": {
  "kernelspec": {
   "display_name": "Python 3",
   "language": "python",
   "name": "python3"
  },
  "language_info": {
   "codemirror_mode": {
    "name": "ipython",
    "version": 3
   },
   "file_extension": ".py",
   "mimetype": "text/x-python",
   "name": "python",
   "nbconvert_exporter": "python",
   "pygments_lexer": "ipython3",
   "version": "3.8.5"
  }
 },
 "nbformat": 4,
 "nbformat_minor": 4
}
