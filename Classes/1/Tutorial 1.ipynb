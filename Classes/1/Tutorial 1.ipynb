{
 "cells": [
  {
   "cell_type": "markdown",
   "metadata": {},
   "source": [
    "# Tutorial 1"
   ]
  },
  {
   "cell_type": "markdown",
   "metadata": {},
   "source": [
    "Read in the two files data9b_w.txt and data9b_m.txt. Each row in both files contains for one person (women in data9b_w.txt, men in data9b_m.txt9) the number of steps that this person took on a particular day (steps) and the body mass index (bmi)."
   ]
  },
  {
   "cell_type": "markdown",
   "metadata": {},
   "source": [
    "## Load necessary packages"
   ]
  },
  {
   "cell_type": "code",
   "execution_count": null,
   "metadata": {},
   "outputs": [],
   "source": [
    "import pandas as pd\n",
    "import numpy as np\n",
    "import scipy as sp\n",
    "import seaborn as sns\n",
    "import matplotlib.pyplot as plt\n",
    "plt.rcParams['figure.figsize'] = [6, 6]"
   ]
  },
  {
   "cell_type": "markdown",
   "metadata": {},
   "source": [
    "## Data Ingest"
   ]
  },
  {
   "cell_type": "code",
   "execution_count": null,
   "metadata": {},
   "outputs": [],
   "source": [
    "# Read in the tables\n",
    "men = pd.read_csv('data9b_m.txt', sep = \"\\t\")\n",
    "women = pd.read_csv('data9b_w.txt', sep = \"\\t\")"
   ]
  },
  {
   "cell_type": "code",
   "execution_count": null,
   "metadata": {},
   "outputs": [],
   "source": [
    "# Check they read in correctly\n",
    "print(men)\n",
    "print(women)"
   ]
  },
  {
   "cell_type": "markdown",
   "metadata": {},
   "source": [
    "## Testing null hypotheses"
   ]
  },
  {
   "cell_type": "markdown",
   "metadata": {},
   "source": [
    "Assume that both traits are normally distributed for males and for females. Consider the following (alternative, not null) hypotheses:\n",
    "\n",
    "a) There is a difference in the mean number of steps between women and men.\n",
    "\n",
    "b) The correlation coefficient between steps and bmi is negative for women.\n",
    "\n",
    "c) The correlation coefficient between steps and bmi is positive for men."
   ]
  },
  {
   "cell_type": "code",
   "execution_count": null,
   "metadata": {},
   "outputs": [],
   "source": [
    "print(\"Means\\nMen: \" + str(np.mean(men.steps)) + \"\\nWomen: \" + str(np.mean(women.steps)) + \"\\n\")\n",
    "\n",
    "print(\"Medians\\nMen: \" + str(np.median(men.steps)) + \"\\nWomen: \" + str(np.median(women.steps)) + \"\\n\")\n",
    "\n",
    "print(\"Standard Deviation\\nMen: \" + str(np.std(men.steps)) + \"\\nWomen: \" + str(np.std(women.steps)) + \"\\n\")"
   ]
  },
  {
   "cell_type": "code",
   "execution_count": null,
   "metadata": {},
   "outputs": [],
   "source": [
    "print(\"Significant difference in steps?\")\n",
    "print(sp.stats.ttest_ind(men.steps, women.steps))\n",
    "\n",
    "print(\"\\nCorrelation between men steps and bmi?\")\n",
    "print(sp.stats.pearsonr(men.steps, men.bmi))\n",
    "\n",
    "print(\"\\nCorrelation between women steps and bmi?\")\n",
    "print(sp.stats.pearsonr(women.steps, women.bmi))"
   ]
  },
  {
   "cell_type": "markdown",
   "metadata": {},
   "source": [
    "## Further exploration"
   ]
  },
  {
   "cell_type": "markdown",
   "metadata": {},
   "source": [
    "Which other conclusions can you draw from the data? Two examples are included below, come up with others!"
   ]
  },
  {
   "cell_type": "code",
   "execution_count": null,
   "metadata": {},
   "outputs": [],
   "source": [
    "# Example 1: Visually inspect scatterplot to see relationship between male and female step counts\n",
    "sns.scatterplot(x=men.steps, y=women.steps);"
   ]
  },
  {
   "cell_type": "code",
   "execution_count": null,
   "metadata": {},
   "outputs": [],
   "source": [
    "# Example 2: Visually check for normality in female bmi\n",
    "sns.histplot(y=women.bmi);"
   ]
  }
 ],
 "metadata": {
  "kernelspec": {
   "display_name": "Python 3",
   "language": "python",
   "name": "python3"
  },
  "language_info": {
   "codemirror_mode": {
    "name": "ipython",
    "version": 3
   },
   "file_extension": ".py",
   "mimetype": "text/x-python",
   "name": "python",
   "nbconvert_exporter": "python",
   "pygments_lexer": "ipython3",
   "version": "3.8.5"
  }
 },
 "nbformat": 4,
 "nbformat_minor": 4
}
